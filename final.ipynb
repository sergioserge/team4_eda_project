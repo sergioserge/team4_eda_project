{
 "cells": [
  {
   "cell_type": "code",
   "execution_count": null,
   "metadata": {},
   "outputs": [],
   "source": []
  },
  {
   "cell_type": "markdown",
   "metadata": {},
   "source": []
  }
 ],
 "metadata": {
  "interpreter": {
   "hash": "839aa98f85fe47239cd00cf3d96744c3476cb0937cd6117bf226de5974f25a30"
  },
  "kernelspec": {
   "display_name": "Python 3.9.0 64-bit ('eda_project': conda)",
   "name": "python3"
  },
  "language_info": {
   "name": "python",
   "version": "3.9.0"
  },
  "orig_nbformat": 4
 },
 "nbformat": 4,
 "nbformat_minor": 2
}
