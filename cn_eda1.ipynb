{
 "cells": [
  {
   "cell_type": "code",
   "execution_count": null,
   "metadata": {},
   "outputs": [],
   "source": [
    "import pandas as pd\n",
    "\n",
    "EXCEL_FILE = \"data/Muesli Project raw data 21-3.xlsx\"\n",
    "\n",
    "def import_xls(file, sheet, header=0):\n",
    "    df = pd.read_excel(file, sheet_name = sheet, header=header)\n",
    "    return df\n",
    "\n",
    "    "
   ]
  },
  {
   "cell_type": "code",
   "execution_count": null,
   "metadata": {},
   "outputs": [],
   "source": [
    "df_orders = import_xls(EXCEL_FILE, \"Orders\", header=1)\n",
    "df_order_process = import_xls(EXCEL_FILE, \"Order Process Data\")\n",
    "df_intern = import_xls(EXCEL_FILE, \"InternData Study\")\n",
    "df_campaign = import_xls(EXCEL_FILE, \"Campaign Data\")\n",
    "df_list = [df_orders, df_order_process, df_intern, df_campaign]\n"
   ]
  },
  {
   "cell_type": "code",
   "execution_count": null,
   "metadata": {},
   "outputs": [],
   "source": [
    "def column_rename(df):\n",
    "    df.columns = df.columns.str.lower()\n",
    "    df.columns = df.columns.str.replace(' ', '_')\n",
    "    return df"
   ]
  },
  {
   "cell_type": "code",
   "execution_count": null,
   "metadata": {},
   "outputs": [],
   "source": [
    "for df in df_list:\n",
    "    column_rename(df)\n",
    "    #display(df)\n"
   ]
  },
  {
   "cell_type": "code",
   "execution_count": null,
   "metadata": {},
   "outputs": [],
   "source": [
    "# for df in df_list:\n",
    "#     display(df.info())\n",
    "#     display(df.describe())"
   ]
  },
  {
   "cell_type": "code",
   "execution_count": null,
   "metadata": {},
   "outputs": [],
   "source": [
    "df_list = [df_orders, df_order_process, df_intern, df_campaign]\n",
    "\n",
    "df_all = pd.merge(df_orders, df_order_process, how='left', on='order_id')\n",
    "df_all = pd.merge(df_all, df_intern, how='left', on='order_id')\n",
    "df_all = pd.merge(df_all, df_campaign, how='left', on='order_id')\n",
    "\n",
    "df = pd.merge(df_orders, df_order_process, how='inner', on='order_id') "
   ]
  },
  {
   "cell_type": "code",
   "execution_count": null,
   "metadata": {},
   "outputs": [],
   "source": [
    "display(df_all.head())\n",
    "display(df.head())\n",
    "\n",
    "display(df_all.info())\n",
    "display(df.info()) "
   ]
  },
  {
   "cell_type": "code",
   "execution_count": null,
   "metadata": {},
   "outputs": [],
   "source": [
    "df[\"order_id\"].nunique()\n",
    "drop_list = ['customer_name', 'country/region', 'city', 'state', 'postal_code', 'region'] \n",
    "df = df.drop(drop_list, axis=1)\n"
   ]
  },
  {
   "cell_type": "code",
   "execution_count": null,
   "metadata": {},
   "outputs": [],
   "source": [
    "display(df.head(10))\n"
   ]
  },
  {
   "cell_type": "code",
   "execution_count": null,
   "metadata": {},
   "outputs": [],
   "source": [
    "df[df[\"order_date_x\"] != df[\"order_date_y\"]]\n",
    "df[df[\"order_date_x\"] == df[\"order_date_y\"]].count()\n",
    "\n"
   ]
  },
  {
   "cell_type": "code",
   "execution_count": null,
   "metadata": {},
   "outputs": [],
   "source": [
    "df.drop(\"order_date_y\", axis=1, inplace =True)\n"
   ]
  },
  {
   "cell_type": "code",
   "execution_count": null,
   "metadata": {},
   "outputs": [],
   "source": [
    "df.rename(columns = {\"order_date_x\": \"order_date\"}, inplace=True)\n",
    "display(df)"
   ]
  },
  {
   "cell_type": "code",
   "execution_count": null,
   "metadata": {},
   "outputs": [],
   "source": [
    "df[\"pretransportation_duration\"] = df[\"on_truck_scan_date\"] - df[\"order_date\"]\n",
    "#df[\"pretransportation_duration\"] = df[\"pretransportation_duration\"].astype(\"int\")\n",
    "display(df)"
   ]
  },
  {
   "cell_type": "code",
   "execution_count": null,
   "metadata": {},
   "outputs": [],
   "source": [
    "df.describe()"
   ]
  }
 ],
 "metadata": {
  "interpreter": {
   "hash": "839aa98f85fe47239cd00cf3d96744c3476cb0937cd6117bf226de5974f25a30"
  },
  "kernelspec": {
   "display_name": "Python 3.9.0 64-bit ('eda_project': conda)",
   "name": "python3"
  },
  "language_info": {
   "codemirror_mode": {
    "name": "ipython",
    "version": 3
   },
   "file_extension": ".py",
   "mimetype": "text/x-python",
   "name": "python",
   "nbconvert_exporter": "python",
   "pygments_lexer": "ipython3",
   "version": "3.9.0"
  },
  "orig_nbformat": 4
 },
 "nbformat": 4,
 "nbformat_minor": 2
}
