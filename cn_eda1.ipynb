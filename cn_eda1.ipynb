{
 "cells": [
  {
   "cell_type": "code",
   "execution_count": null,
   "metadata": {},
   "outputs": [],
   "source": [
    "import pandas as pd\n",
    "EXCEL_FILE = \"/data/Muesli Project raw data 21-3.xlsx\"\n",
    "df_orders = pd.read_excel(EXCEL_FILE, sheet_name = \"Orders\")\n",
    "df_order_process = \n"
   ]
  }
 ],
 "metadata": {
  "language_info": {
   "name": "python"
  },
  "orig_nbformat": 4
 },
 "nbformat": 4,
 "nbformat_minor": 2
}
